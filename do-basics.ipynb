{
 "cells": [
  {
   "cell_type": "code",
   "execution_count": 3,
   "metadata": {
    "collapsed": true
   },
   "outputs": [
    {
     "name": "stdout",
     "output_type": "stream",
     "text": [
      "Hello there\n"
     ]
    },
    {
     "name": "stderr",
     "output_type": "stream",
     "text": [
      "Warning: Falling back to use azure cli login credentials.\n",
      "If you run your code in unattended mode, i.e., where you can't give a user input, then we recommend to use ServicePrincipalAuthentication or MsiAuthentication.\n",
      "Please refer to aka.ms/aml-notebook-auth for different authentication mechanisms in azureml-sdk.\n"
     ]
    }
   ],
   "source": [
    "from azureml.core import Workspace,\n",
    "from azureml.core.compute import ComputeInstance\n",
    "\n",
    "print('Hello there')\n",
    "\n",
    "ws = Workspace.from_config()"
   ]
  },
  {
   "cell_type": "code",
   "execution_count": 16,
   "outputs": [
    {
     "name": "stdout",
     "output_type": "stream",
     "text": [
      "compute-default-filip211, ComputeInstance\n"
     ]
    },
    {
     "ename": "ValueError",
     "evalue": "Cannot stop compute instance, current status is: Stopped.",
     "output_type": "error",
     "traceback": [
      "\u001B[0;31m---------------------------------------------------------------------------\u001B[0m",
      "\u001B[0;31mValueError\u001B[0m                                Traceback (most recent call last)",
      "\u001B[0;32m<ipython-input-16-9f6a83302aec>\u001B[0m in \u001B[0;36m<module>\u001B[0;34m\u001B[0m\n\u001B[1;32m     24\u001B[0m \u001B[0mmy_compute_name\u001B[0m \u001B[0;34m=\u001B[0m \u001B[0;34m'compute-default-filip211'\u001B[0m\u001B[0;34m\u001B[0m\u001B[0;34m\u001B[0m\u001B[0m\n\u001B[1;32m     25\u001B[0m \u001B[0;34m\u001B[0m\u001B[0m\n\u001B[0;32m---> 26\u001B[0;31m \u001B[0mstop_compute\u001B[0m\u001B[0;34m(\u001B[0m\u001B[0mmy_compute_name\u001B[0m\u001B[0;34m,\u001B[0m \u001B[0mws\u001B[0m\u001B[0;34m)\u001B[0m\u001B[0;34m\u001B[0m\u001B[0;34m\u001B[0m\u001B[0m\n\u001B[0m\u001B[1;32m     27\u001B[0m     \u001B[0;31m# print(json.dumps(compute_details))\u001B[0m\u001B[0;34m\u001B[0m\u001B[0;34m\u001B[0m\u001B[0;34m\u001B[0m\u001B[0m\n\u001B[1;32m     28\u001B[0m \u001B[0;34m\u001B[0m\u001B[0m\n",
      "\u001B[0;32m<ipython-input-16-9f6a83302aec>\u001B[0m in \u001B[0;36mstop_compute\u001B[0;34m(compute_name, target_ws)\u001B[0m\n\u001B[1;32m     20\u001B[0m                 \u001B[0mtarget_ws\u001B[0m\u001B[0;34m.\u001B[0m\u001B[0mcompute_targets\u001B[0m\u001B[0;34m[\u001B[0m\u001B[0mcompute_name\u001B[0m\u001B[0;34m]\u001B[0m\u001B[0;34m.\u001B[0m\u001B[0mstop\u001B[0m\u001B[0;34m(\u001B[0m\u001B[0mwait_for_completion\u001B[0m\u001B[0;34m=\u001B[0m\u001B[0;32mTrue\u001B[0m\u001B[0;34m,\u001B[0m \u001B[0mshow_output\u001B[0m\u001B[0;34m=\u001B[0m\u001B[0;32mTrue\u001B[0m\u001B[0;34m)\u001B[0m\u001B[0;34m\u001B[0m\u001B[0;34m\u001B[0m\u001B[0m\n\u001B[1;32m     21\u001B[0m             \u001B[0;32melse\u001B[0m\u001B[0;34m:\u001B[0m\u001B[0;34m\u001B[0m\u001B[0;34m\u001B[0m\u001B[0m\n\u001B[0;32m---> 22\u001B[0;31m                 \u001B[0;32mraise\u001B[0m \u001B[0mValueError\u001B[0m\u001B[0;34m(\u001B[0m\u001B[0;34mf'Cannot stop compute instance, current status is: {compute_details.status.state}.'\u001B[0m\u001B[0;34m)\u001B[0m\u001B[0;34m\u001B[0m\u001B[0;34m\u001B[0m\u001B[0m\n\u001B[0m\u001B[1;32m     23\u001B[0m \u001B[0;34m\u001B[0m\u001B[0m\n\u001B[1;32m     24\u001B[0m \u001B[0mmy_compute_name\u001B[0m \u001B[0;34m=\u001B[0m \u001B[0;34m'compute-default-filip211'\u001B[0m\u001B[0;34m\u001B[0m\u001B[0;34m\u001B[0m\u001B[0m\n",
      "\u001B[0;31mValueError\u001B[0m: Cannot stop compute instance, current status is: Stopped."
     ]
    }
   ],
   "source": [
    "def stop_all_computes(target_ws):\n",
    "    for compute_name in target_ws.compute_targets:\n",
    "        compute_details = target_ws.compute_targets[compute_name]\n",
    "        print(f'{compute_name}, {compute_details.type}')\n",
    "\n",
    "        if compute_details.type == 'ComputeInstance':\n",
    "            if compute_details.status.state != 'Stopped':\n",
    "                print('Stopping')\n",
    "                target_ws.compute_targets[compute_name].stop(wait_for_completion=True, show_output=True)\n",
    "\n",
    "def stop_compute(compute_name, target_ws):\n",
    "    if not compute_name in target_ws.compute_targets:\n",
    "        raise NameError('Compute not found among workspace computes.')\n",
    "    else:\n",
    "        compute_details = target_ws.compute_targets[compute_name]\n",
    "        print(f'{compute_name}, {compute_details.type}')\n",
    "        if compute_details.type == 'ComputeInstance':\n",
    "            if compute_details.status.state != 'Stopped':\n",
    "                print('Stopping')\n",
    "                target_ws.compute_targets[compute_name].stop(wait_for_completion=True, show_output=True)\n",
    "            else:\n",
    "                raise ValueError(f'Cannot stop compute instance, current status is: {compute_details.status.state}.')\n",
    "\n",
    "my_compute_name = 'compute-default-filip211'\n",
    "\n",
    "stop_compute(my_compute_name, ws)\n",
    "    # print(json.dumps(compute_details))\n"
   ],
   "metadata": {
    "collapsed": false,
    "pycharm": {
     "name": "#%%\n"
    }
   }
  }
 ],
 "metadata": {
  "kernelspec": {
   "display_name": "Python 3",
   "language": "python",
   "name": "python3"
  },
  "language_info": {
   "codemirror_mode": {
    "name": "ipython",
    "version": 2
   },
   "file_extension": ".py",
   "mimetype": "text/x-python",
   "name": "python",
   "nbconvert_exporter": "python",
   "pygments_lexer": "ipython2",
   "version": "2.7.6"
  }
 },
 "nbformat": 4,
 "nbformat_minor": 0
}