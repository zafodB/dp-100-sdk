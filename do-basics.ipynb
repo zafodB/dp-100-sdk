{
 "cells": [
  {
   "cell_type": "code",
   "execution_count": 1,
   "metadata": {
    "collapsed": true
   },
   "outputs": [
    {
     "name": "stdout",
     "output_type": "stream",
     "text": [
      "Hello there\n"
     ]
    },
    {
     "name": "stderr",
     "output_type": "stream",
     "text": [
      "Warning: Falling back to use azure cli login credentials.\n",
      "If you run your code in unattended mode, i.e., where you can't give a user input, then we recommend to use ServicePrincipalAuthentication or MsiAuthentication.\n",
      "Please refer to aka.ms/aml-notebook-auth for different authentication mechanisms in azureml-sdk.\n"
     ]
    }
   ],
   "source": [
    "import datetime\n",
    "from azureml.core import Workspace\n",
    "from azureml.core.compute import ComputeInstance\n",
    "\n",
    "print('Hello there')\n",
    "\n",
    "ws = Workspace.from_config()\n",
    "\n",
    "\n",
    "def get_compute_status(compute_name: str, target_ws: Workspace):\n",
    "    if not compute_name in target_ws.compute_targets:\n",
    "        raise NameError('Compute not found among workspace computes.')\n",
    "    else:\n",
    "        compute_details = target_ws.compute_targets[compute_name]\n",
    "        state = compute_details.status.state\n",
    "\n",
    "        print(f'{compute_name}, {compute_details.type} is currently: {state}')\n",
    "\n",
    "        return state\n",
    "\n",
    "\n",
    "def stop_all_computes(target_ws):\n",
    "    for compute_name in target_ws.compute_targets:\n",
    "        compute_details = target_ws.compute_targets[compute_name]\n",
    "        print(f'{compute_name}, {compute_details.type}')\n",
    "\n",
    "        if compute_details.type == 'ComputeInstance':\n",
    "            if compute_details.status.state != 'Stopped':\n",
    "                print('Stopping')\n",
    "                target_ws.compute_targets[compute_name].stop(wait_for_completion=True, show_output=True)\n",
    "\n",
    "\n",
    "def stop_compute(compute_name, target_ws):\n",
    "    if not compute_name in target_ws.compute_targets:\n",
    "        raise NameError('Compute not found among workspace computes.')\n",
    "    else:\n",
    "        compute_details = target_ws.compute_targets[compute_name]\n",
    "        print(f'{compute_name}, {compute_details.type}')\n",
    "        if compute_details.type == 'ComputeInstance':\n",
    "            if compute_details.status.state != 'Stopped':\n",
    "                print('Stopping')\n",
    "                target_ws.compute_targets[compute_name].stop(wait_for_completion=True, show_output=True)\n",
    "            else:\n",
    "                raise ValueError(f'Cannot stop compute instance, current status is: {compute_details.status.state}.')\n",
    "\n",
    "\n",
    "def start_compute(compute_name, target_ws):\n",
    "    if not compute_name in target_ws.compute_targets:\n",
    "        raise NameError('Compute not found among workspace computes.')\n",
    "    else:\n",
    "        compute_details = target_ws.compute_targets[compute_name]\n",
    "        print(f'{compute_name}, {compute_details.type}')\n",
    "        if compute_details.type == 'ComputeInstance':\n",
    "            if compute_details.status.state == 'Stopped':\n",
    "                print('Starting')\n",
    "                target_ws.compute_targets[compute_name].start(wait_for_completion=True, show_output=True)\n",
    "            else:\n",
    "                raise ValueError(f'Cannot start compute instance, current status is: {compute_details.status.state}.')"
   ]
  },
  {
   "cell_type": "code",
   "execution_count": 2,
   "outputs": [
    {
     "name": "stdout",
     "output_type": "stream",
     "text": [
      "compute-default-filip211, ComputeInstance\n"
     ]
    },
    {
     "ename": "ValueError",
     "evalue": "Cannot stop compute instance, current status is: Stopped.",
     "output_type": "error",
     "traceback": [
      "\u001B[0;31m---------------------------------------------------------------------------\u001B[0m",
      "\u001B[0;31mValueError\u001B[0m                                Traceback (most recent call last)",
      "\u001B[0;32m<ipython-input-2-7fdd1ba60043>\u001B[0m in \u001B[0;36m<module>\u001B[0;34m\u001B[0m\n\u001B[1;32m      1\u001B[0m \u001B[0mmy_compute_name\u001B[0m \u001B[0;34m=\u001B[0m \u001B[0;34m'compute-default-filip211'\u001B[0m\u001B[0;34m\u001B[0m\u001B[0;34m\u001B[0m\u001B[0m\n\u001B[1;32m      2\u001B[0m \u001B[0;34m\u001B[0m\u001B[0m\n\u001B[0;32m----> 3\u001B[0;31m \u001B[0mstop_compute\u001B[0m\u001B[0;34m(\u001B[0m\u001B[0mmy_compute_name\u001B[0m\u001B[0;34m,\u001B[0m \u001B[0mws\u001B[0m\u001B[0;34m)\u001B[0m\u001B[0;34m\u001B[0m\u001B[0;34m\u001B[0m\u001B[0m\n\u001B[0m\u001B[1;32m      4\u001B[0m \u001B[0;34m\u001B[0m\u001B[0m\n",
      "\u001B[0;32m<ipython-input-1-469a20b7b4e6>\u001B[0m in \u001B[0;36mstop_compute\u001B[0;34m(compute_name, target_ws)\u001B[0m\n\u001B[1;32m     42\u001B[0m                 \u001B[0mtarget_ws\u001B[0m\u001B[0;34m.\u001B[0m\u001B[0mcompute_targets\u001B[0m\u001B[0;34m[\u001B[0m\u001B[0mcompute_name\u001B[0m\u001B[0;34m]\u001B[0m\u001B[0;34m.\u001B[0m\u001B[0mstop\u001B[0m\u001B[0;34m(\u001B[0m\u001B[0mwait_for_completion\u001B[0m\u001B[0;34m=\u001B[0m\u001B[0;32mTrue\u001B[0m\u001B[0;34m,\u001B[0m \u001B[0mshow_output\u001B[0m\u001B[0;34m=\u001B[0m\u001B[0;32mTrue\u001B[0m\u001B[0;34m)\u001B[0m\u001B[0;34m\u001B[0m\u001B[0;34m\u001B[0m\u001B[0m\n\u001B[1;32m     43\u001B[0m             \u001B[0;32melse\u001B[0m\u001B[0;34m:\u001B[0m\u001B[0;34m\u001B[0m\u001B[0;34m\u001B[0m\u001B[0m\n\u001B[0;32m---> 44\u001B[0;31m                 \u001B[0;32mraise\u001B[0m \u001B[0mValueError\u001B[0m\u001B[0;34m(\u001B[0m\u001B[0;34mf'Cannot stop compute instance, current status is: {compute_details.status.state}.'\u001B[0m\u001B[0;34m)\u001B[0m\u001B[0;34m\u001B[0m\u001B[0;34m\u001B[0m\u001B[0m\n\u001B[0m\u001B[1;32m     45\u001B[0m \u001B[0;34m\u001B[0m\u001B[0m\n\u001B[1;32m     46\u001B[0m \u001B[0;34m\u001B[0m\u001B[0m\n",
      "\u001B[0;31mValueError\u001B[0m: Cannot stop compute instance, current status is: Stopped."
     ]
    }
   ],
   "source": [
    "my_compute_name = 'compute-default-filip211'\n",
    "\n",
    "stop_compute(my_compute_name, ws)"
   ],
   "metadata": {
    "collapsed": false,
    "pycharm": {
     "name": "#%%\n"
    }
   }
  },
  {
   "cell_type": "code",
   "execution_count": null,
   "outputs": [],
   "source": [
    "my_compute_name = 'compute-default-filip211'\n",
    "start_compute(my_compute_name, ws)"
   ],
   "metadata": {
    "collapsed": false,
    "pycharm": {
     "name": "#%%\n"
    }
   }
  },
  {
   "cell_type": "code",
   "execution_count": null,
   "outputs": [],
   "source": [
    "my_compute_name = 'compute-default-filip211'\n",
    "get_compute_status(my_compute_name, ws)"
   ],
   "metadata": {
    "collapsed": false,
    "pycharm": {
     "name": "#%%\n"
    }
   }
  },
  {
   "cell_type": "code",
   "execution_count": null,
   "outputs": [],
   "source": [
    "from azureml.pipeline.core.pipeline_draft import PipelineDraft\n",
    "\n",
    "all_pipelines = PipelineDraft.list(ws)"
   ],
   "metadata": {
    "collapsed": false,
    "pycharm": {
     "name": "#%%\n"
    }
   }
  },
  {
   "cell_type": "code",
   "execution_count": null,
   "outputs": [],
   "source": [
    "fish_pipeline = PipelineDraft.get(ws, id='0d3aba3f-1f8e-4127-87e9-95661b5f7af2').get_graph()"
   ],
   "metadata": {
    "collapsed": false,
    "pycharm": {
     "name": "#%%\n"
    }
   }
  },
  {
   "cell_type": "code",
   "execution_count": null,
   "outputs": [],
   "source": [
    "import yaml\n",
    "# print(fish_pipeline.generate_yaml())\n",
    "\n",
    "fish_pipeline.generate_yaml()"
   ],
   "metadata": {
    "collapsed": false,
    "pycharm": {
     "name": "#%%\n"
    }
   }
  }
 ],
 "metadata": {
  "kernelspec": {
   "display_name": "Python 3",
   "language": "python",
   "name": "python3"
  },
  "language_info": {
   "codemirror_mode": {
    "name": "ipython",
    "version": 2
   },
   "file_extension": ".py",
   "mimetype": "text/x-python",
   "name": "python",
   "nbconvert_exporter": "python",
   "pygments_lexer": "ipython2",
   "version": "2.7.6"
  }
 },
 "nbformat": 4,
 "nbformat_minor": 0
}