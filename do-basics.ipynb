{
 "cells": [
  {
   "cell_type": "code",
   "execution_count": 11,
   "metadata": {
    "collapsed": true
   },
   "outputs": [
    {
     "name": "stdout",
     "output_type": "stream",
     "text": [
      "Hello there\n"
     ]
    }
   ],
   "source": [
    "import datetime\n",
    "from azureml.core import Workspace\n",
    "from azureml.core.compute import ComputeInstance\n",
    "\n",
    "print('Hello there')\n",
    "\n",
    "ws = Workspace.from_config()\n",
    "\n",
    "\n",
    "def get_compute_status(compute_name: str, target_ws: Workspace):\n",
    "    if not compute_name in target_ws.compute_targets:\n",
    "        raise NameError('Compute not found among workspace computes.')\n",
    "    else:\n",
    "        compute_details = target_ws.compute_targets[compute_name]\n",
    "        state = compute_details.status.state\n",
    "\n",
    "        print(f'{compute_name}, {compute_details.type} is currently: {state}')\n",
    "\n",
    "        return state\n",
    "\n",
    "\n",
    "def stop_all_computes(target_ws):\n",
    "    for compute_name in target_ws.compute_targets:\n",
    "        compute_details = target_ws.compute_targets[compute_name]\n",
    "        print(f'{compute_name}, {compute_details.type}')\n",
    "\n",
    "        if compute_details.type == 'ComputeInstance':\n",
    "            if compute_details.status.state != 'Stopped':\n",
    "                print('Stopping')\n",
    "                target_ws.compute_targets[compute_name].stop(wait_for_completion=True, show_output=True)\n",
    "\n",
    "\n",
    "def stop_compute(compute_name, target_ws):\n",
    "    if not compute_name in target_ws.compute_targets:\n",
    "        raise NameError('Compute not found among workspace computes.')\n",
    "    else:\n",
    "        compute_details = target_ws.compute_targets[compute_name]\n",
    "        print(f'{compute_name}, {compute_details.type}')\n",
    "        if compute_details.type == 'ComputeInstance':\n",
    "            if compute_details.status.state != 'Stopped':\n",
    "                print('Stopping')\n",
    "                target_ws.compute_targets[compute_name].stop(wait_for_completion=True, show_output=True)\n",
    "            else:\n",
    "                raise ValueError(f'Cannot stop compute instance, current status is: {compute_details.status.state}.')\n",
    "\n",
    "\n",
    "def start_compute(compute_name, target_ws):\n",
    "    if not compute_name in target_ws.compute_targets:\n",
    "        raise NameError('Compute not found among workspace computes.')\n",
    "    else:\n",
    "        compute_details = target_ws.compute_targets[compute_name]\n",
    "        print(f'{compute_name}, {compute_details.type}')\n",
    "        if compute_details.type == 'ComputeInstance':\n",
    "            if compute_details.status.state == 'Stopped':\n",
    "                print('Starting')\n",
    "                target_ws.compute_targets[compute_name].start(wait_for_completion=True, show_output=True)\n",
    "            else:\n",
    "                raise ValueError(f'Cannot start compute instance, current status is: {compute_details.status.state}.')"
   ]
  },
  {
   "cell_type": "code",
   "execution_count": 2,
   "outputs": [
    {
     "name": "stdout",
     "output_type": "stream",
     "text": [
      "compute-default-filip211, ComputeInstance\n",
      "Stopping\n",
      "Stopping..........\n",
      "Stopped\n",
      "Stop operation completed successfully.\n"
     ]
    }
   ],
   "source": [
    "my_compute_name = 'compute-default-filip211'\n",
    "\n",
    "stop_compute(my_compute_name, ws)"
   ],
   "metadata": {
    "collapsed": false,
    "pycharm": {
     "name": "#%%\n"
    }
   }
  },
  {
   "cell_type": "code",
   "execution_count": 3,
   "outputs": [
    {
     "name": "stdout",
     "output_type": "stream",
     "text": [
      "compute-default-filip211, ComputeInstance\n",
      "Starting\n",
      "Starting..............................\n",
      "Running\n",
      "Start operation completed successfully.\n"
     ]
    }
   ],
   "source": [
    "my_compute_name = 'compute-default-filip211'\n",
    "start_compute(my_compute_name, ws)"
   ],
   "metadata": {
    "collapsed": false,
    "pycharm": {
     "name": "#%%\n"
    }
   }
  },
  {
   "cell_type": "code",
   "execution_count": 12,
   "outputs": [
    {
     "name": "stdout",
     "output_type": "stream",
     "text": [
      "compute-default-filip211, ComputeInstance is currently: Stopped\n"
     ]
    },
    {
     "data": {
      "text/plain": "'Stopped'"
     },
     "execution_count": 12,
     "metadata": {},
     "output_type": "execute_result"
    }
   ],
   "source": [
    "my_compute_name = 'compute-default-filip211'\n",
    "get_compute_status(my_compute_name, ws)"
   ],
   "metadata": {
    "collapsed": false,
    "pycharm": {
     "name": "#%%\n"
    }
   }
  }
 ],
 "metadata": {
  "kernelspec": {
   "display_name": "Python 3",
   "language": "python",
   "name": "python3"
  },
  "language_info": {
   "codemirror_mode": {
    "name": "ipython",
    "version": 2
   },
   "file_extension": ".py",
   "mimetype": "text/x-python",
   "name": "python",
   "nbconvert_exporter": "python",
   "pygments_lexer": "ipython2",
   "version": "2.7.6"
  }
 },
 "nbformat": 4,
 "nbformat_minor": 0
}