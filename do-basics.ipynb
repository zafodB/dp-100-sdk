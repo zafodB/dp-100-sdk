{
 "cells": [
  {
   "cell_type": "code",
   "execution_count": 1,
   "metadata": {
    "collapsed": true
   },
   "outputs": [
    {
     "name": "stdout",
     "output_type": "stream",
     "text": [
      "Hello there\n",
      "Performing interactive authentication. Please follow the instructions on the terminal.\n",
      "You have logged in. Now let us find all the subscriptions to which you have access...\n",
      "Interactive authentication successfully completed.\n"
     ]
    },
    {
     "name": "stderr",
     "output_type": "stream",
     "text": [
      "Note, we have launched a browser for you to login. For old experience with device code, use \"az login --use-device-code\"\n"
     ]
    }
   ],
   "source": [
    "import datetime\n",
    "from azureml.core import Workspace\n",
    "from azureml.core.compute import ComputeInstance\n",
    "\n",
    "print('Hello there')\n",
    "\n",
    "ws = Workspace.from_config()\n",
    "\n",
    "def stop_all_computes(target_ws):\n",
    "    for compute_name in target_ws.compute_targets:\n",
    "        compute_details = target_ws.compute_targets[compute_name]\n",
    "        print(f'{compute_name}, {compute_details.type}')\n",
    "\n",
    "        if compute_details.type == 'ComputeInstance':\n",
    "            if compute_details.status.state != 'Stopped':\n",
    "                print('Stopping')\n",
    "                target_ws.compute_targets[compute_name].stop(wait_for_completion=True, show_output=True)\n",
    "\n",
    "\n",
    "def stop_compute(compute_name, target_ws):\n",
    "    if not compute_name in target_ws.compute_targets:\n",
    "        raise NameError('Compute not found among workspace computes.')\n",
    "    else:\n",
    "        compute_details = target_ws.compute_targets[compute_name]\n",
    "        print(f'{compute_name}, {compute_details.type}')\n",
    "        if compute_details.type == 'ComputeInstance':\n",
    "            if compute_details.status.state != 'Stopped':\n",
    "                print('Stopping')\n",
    "                target_ws.compute_targets[compute_name].stop(wait_for_completion=True, show_output=True)\n",
    "            else:\n",
    "                raise ValueError(f'Cannot stop compute instance, current status is: {compute_details.status.state}.')\n",
    "\n",
    "\n",
    "def start_compute(compute_name, target_ws):\n",
    "    if not compute_name in target_ws.compute_targets:\n",
    "        raise NameError('Compute not found among workspace computes.')\n",
    "    else:\n",
    "        compute_details = target_ws.compute_targets[compute_name]\n",
    "        print(f'{compute_name}, {compute_details.type}')\n",
    "        if compute_details.type == 'ComputeInstance':\n",
    "            if compute_details.status.state == 'Stopped':\n",
    "                print('Starting')\n",
    "                target_ws.compute_targets[compute_name].start(wait_for_completion=True, show_output=True)\n",
    "            else:\n",
    "                raise ValueError(f'Cannot start compute instance, current status is: {compute_details.status.state}.')"
   ]
  },
  {
   "cell_type": "code",
   "execution_count": 2,
   "outputs": [
    {
     "name": "stdout",
     "output_type": "stream",
     "text": [
      "compute-default-filip211, ComputeInstance\n",
      "Stopping\n",
      "Stopping..........\n",
      "Stopped\n",
      "Stop operation completed successfully.\n"
     ]
    }
   ],
   "source": [
    "my_compute_name = 'compute-default-filip211'\n",
    "\n",
    "stop_compute(my_compute_name, ws)"
   ],
   "metadata": {
    "collapsed": false,
    "pycharm": {
     "name": "#%%\n"
    }
   }
  },
  {
   "cell_type": "code",
   "execution_count": 3,
   "outputs": [
    {
     "name": "stdout",
     "output_type": "stream",
     "text": [
      "compute-default-filip211, ComputeInstance\n",
      "Starting\n",
      "Starting..............................\n",
      "Running\n",
      "Start operation completed successfully.\n"
     ]
    }
   ],
   "source": [
    "start_compute(my_compute_name, ws)"
   ],
   "metadata": {
    "collapsed": false,
    "pycharm": {
     "name": "#%%\n"
    }
   }
  }
 ],
 "metadata": {
  "kernelspec": {
   "display_name": "Python 3",
   "language": "python",
   "name": "python3"
  },
  "language_info": {
   "codemirror_mode": {
    "name": "ipython",
    "version": 2
   },
   "file_extension": ".py",
   "mimetype": "text/x-python",
   "name": "python",
   "nbconvert_exporter": "python",
   "pygments_lexer": "ipython2",
   "version": "2.7.6"
  }
 },
 "nbformat": 4,
 "nbformat_minor": 0
}